{
 "cells": [
  {
   "cell_type": "code",
   "execution_count": 9,
   "id": "d689d8dd",
   "metadata": {},
   "outputs": [],
   "source": [
    "#sliding window \n",
    "#subarray problem \n",
    "\n",
    "arr=[100,200,300,400]\n",
    "k=2\n",
    "low=0\n",
    "high=low+k\n",
    "count=0\n"
   ]
  },
  {
   "cell_type": "code",
   "execution_count": 3,
   "id": "9b8d1cda",
   "metadata": {},
   "outputs": [
    {
     "name": "stdout",
     "output_type": "stream",
     "text": [
      "2\n"
     ]
    }
   ],
   "source": [
    "s='abbcc'\n",
    "char=set()\n",
    "left=0\n",
    "maxl=0\n",
    "for right in range(len(s)):\n",
    "    while s[right] in char:\n",
    "        char.remove(s[left])\n",
    "        left+=1\n",
    "    char.add(s[right])\n",
    "    maxl=max(maxl,right-left+1)\n",
    "print(maxl)\n"
   ]
  },
  {
   "cell_type": "code",
   "execution_count": 12,
   "id": "1529f6ab",
   "metadata": {},
   "outputs": [],
   "source": [
    "#max dept of binary tree\n",
    "class Tree:\n",
    "    def __init__(self,val=0,left=None,right=None):\n",
    "        self.val=val\n",
    "        self.left=left\n",
    "        self.right=right\n",
    "def max(root):\n",
    "    if not root:\n",
    "        return 0\n",
    "    return 1+max(max(root.left),max(root.right))\n",
    "root=[3,9,20,None,None,15,7]\n"
   ]
  },
  {
   "cell_type": "code",
   "execution_count": 8,
   "id": "3b6d88c4",
   "metadata": {},
   "outputs": [
    {
     "name": "stdout",
     "output_type": "stream",
     "text": [
      "15\n"
     ]
    }
   ],
   "source": [
    "# Maximum Sum Subarray of Size k\n",
    "nums=[2,1,1,4,3,2,9,4]\n",
    "k=3\n",
    "sums=0\n",
    "ms=0\n",
    "for i in range(0,len(nums)-1):\n",
    "    sums= sum(nums[i:i+k])\n",
    "    ms=max(ms,sums)\n",
    "    sums=0\n",
    "print(ms)\n"
   ]
  },
  {
   "cell_type": "code",
   "execution_count": 1,
   "id": "8e4a9aad",
   "metadata": {},
   "outputs": [
    {
     "name": "stdout",
     "output_type": "stream",
     "text": [
      "[2.2, 2.8, 2.4, 5.4, 4.6]\n"
     ]
    }
   ],
   "source": [
    "nums=[1,3,2,6,-1,4,1,17,2]\n",
    "k=5\n",
    "sums=0\n",
    "avg=0\n",
    "res=[]\n",
    "for i in range(0,len(nums)-1):\n",
    "    if(i==k):\n",
    "        break\n",
    "    sums= sum(nums[i:i+k])\n",
    "    avg=sums/k\n",
    "    sums=0\n",
    "    res.append(avg)\n",
    "print(res)"
   ]
  },
  {
   "cell_type": "code",
   "execution_count": null,
   "id": "bd8af892",
   "metadata": {},
   "outputs": [],
   "source": []
  }
 ],
 "metadata": {
  "kernelspec": {
   "display_name": "Python 3",
   "language": "python",
   "name": "python3"
  },
  "language_info": {
   "codemirror_mode": {
    "name": "ipython",
    "version": 3
   },
   "file_extension": ".py",
   "mimetype": "text/x-python",
   "name": "python",
   "nbconvert_exporter": "python",
   "pygments_lexer": "ipython3",
   "version": "3.13.2"
  }
 },
 "nbformat": 4,
 "nbformat_minor": 5
}
