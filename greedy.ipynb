{
 "cells": [
  {
   "cell_type": "code",
   "execution_count": 3,
   "id": "6cc28859",
   "metadata": {},
   "outputs": [
    {
     "name": "stdout",
     "output_type": "stream",
     "text": [
      "3\n"
     ]
    }
   ],
   "source": [
    "#lc 2027 \n",
    "#input xxox\n",
    "#output oooo count 2\n",
    "s='xxxoxxoox'\n",
    "i=0\n",
    "count=0\n",
    "while i<len(s):\n",
    "    if s[i]=='x':\n",
    "        count+=1\n",
    "        i+=3\n",
    "    else:\n",
    "        i+=1\n",
    "print(count)\n",
    "\n"
   ]
  },
  {
   "cell_type": "code",
   "execution_count": 8,
   "id": "60cdd44b",
   "metadata": {},
   "outputs": [
    {
     "name": "stdout",
     "output_type": "stream",
     "text": [
      "4\n"
     ]
    }
   ],
   "source": [
    "n=10\n",
    "count=0\n",
    "while n>1:\n",
    "    if n%2==0:\n",
    "        n=n/2\n",
    "    else:\n",
    "        n-=1\n",
    "    count+=1\n",
    "print(count)"
   ]
  },
  {
   "cell_type": "code",
   "execution_count": null,
   "id": "b9db4e41",
   "metadata": {},
   "outputs": [
    {
     "name": "stdout",
     "output_type": "stream",
     "text": [
      "4\n"
     ]
    }
   ],
   "source": [
    "arr=[5,6,8]\n",
    "n=len(arr)\n",
    "sum(arr)\n",
    "# in this concept we just have to find out that every elemnt is how much lesser than mini element\n",
    "# min = 5 and is lower as 1+3= 4\n",
    "#to implement this logic,\n",
    "count=0\n",
    "count= sum(arr)-min(arr)*n\n",
    "print(count)"
   ]
  },
  {
   "cell_type": "code",
   "execution_count": 10,
   "id": "06dd4d68",
   "metadata": {},
   "outputs": [
    {
     "name": "stdout",
     "output_type": "stream",
     "text": [
      "16\n"
     ]
    }
   ],
   "source": [
    "arr=[1,10,2,9]\n",
    "arr=sorted(arr)\n",
    "count=0\n",
    "n=len(arr)\n",
    "med=arr[n//2]\n",
    "for i in arr:\n",
    "    count+=abs(i-med)\n",
    "print(count)"
   ]
  }
 ],
 "metadata": {
  "kernelspec": {
   "display_name": "Python 3",
   "language": "python",
   "name": "python3"
  },
  "language_info": {
   "codemirror_mode": {
    "name": "ipython",
    "version": 3
   },
   "file_extension": ".py",
   "mimetype": "text/x-python",
   "name": "python",
   "nbconvert_exporter": "python",
   "pygments_lexer": "ipython3",
   "version": "3.13.2"
  }
 },
 "nbformat": 4,
 "nbformat_minor": 5
}
