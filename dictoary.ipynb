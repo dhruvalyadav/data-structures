{
 "cells": [
  {
   "cell_type": "code",
   "execution_count": 6,
   "id": "2951c7fe",
   "metadata": {},
   "outputs": [
    {
     "name": "stdout",
     "output_type": "stream",
     "text": [
      "1\n",
      "2\n",
      "2005\n",
      "['red', 'green', 'pink']\n",
      "4\n"
     ]
    }
   ],
   "source": [
    "dict={\n",
    "    \"brand\":1,\n",
    "    \"car\":2,\n",
    "    \"year\":2004,\n",
    "    \"year\":2005,\n",
    "    \"color\":['red','green','pink']\n",
    "}\n",
    "for key,values in dict.items():\n",
    "    print(values)\n",
    "print(len(dict))"
   ]
  },
  {
   "cell_type": "code",
   "execution_count": 16,
   "id": "6588d276",
   "metadata": {},
   "outputs": [
    {
     "name": "stdout",
     "output_type": "stream",
     "text": [
      "Ford\n",
      "dict_items([('brand', 'Ford'), ('model', 'Mustang'), ('year', 1964)])\n",
      "dict_items([('brand', 'Ford'), ('model', 'Mustang'), ('year', 2020)])\n",
      "yes\n",
      "{'brand': 'Ford', 'model': 'Mustang'}\n",
      "{'brand': 'Ford'}\n"
     ]
    }
   ],
   "source": [
    "dict = {\n",
    "  \"brand\": \"Ford\",\n",
    "  \"model\": \"Mustang\",\n",
    "  \"year\": 1964\n",
    "}\n",
    "print(dict.get(\"brand\"))\n",
    "x=dict.items()\n",
    "print(x)\n",
    "dict[\"year\"]=2020\n",
    "print(x)\n",
    "\n",
    "if \"brand\" or \"color\" in dict:\n",
    "    print('yes')\n",
    "dict.popitem()\n",
    "print(dict)\n",
    "del dict[\"model\"]\n",
    "print(dict)"
   ]
  },
  {
   "cell_type": "code",
   "execution_count": 4,
   "id": "b434c029",
   "metadata": {},
   "outputs": [
    {
     "name": "stdout",
     "output_type": "stream",
     "text": [
      "brand: Ford\n",
      "model: Mustang\n",
      "year: 1964\n"
     ]
    }
   ],
   "source": [
    "dict = {\n",
    "  \"brand\": \"Ford\",\n",
    "  \"model\": \"Mustang\",\n",
    "  \"year\": 1964\n",
    "}\n",
    "for x in dict:\n",
    "    print(x,end=\": \")\n",
    "    print(dict[x])\n",
    " "
   ]
  },
  {
   "cell_type": "code",
   "execution_count": 36,
   "id": "447e93e5",
   "metadata": {},
   "outputs": [
    {
     "name": "stdout",
     "output_type": "stream",
     "text": [
      "12th\n",
      "c1 {'name': 'john', 'year': 2004}\n",
      "c2 {'name': 'john2', 'year': 2005}\n",
      "c3 {'class': '12th'}\n"
     ]
    }
   ],
   "source": [
    "fam={\n",
    "    \"c1\":{\n",
    "        'name':'john',\n",
    "        'year':2004\n",
    "    },\n",
    "    \"c2\":{\n",
    "        'name':'john2',\n",
    "        'year':2005\n",
    "    },\n",
    "    \"c3\":{\n",
    "        'class':'12th'\n",
    "    }\n",
    "}\n",
    "print(fam['c3']['class'])\n",
    "for x,obj in fam.items():\n",
    "   print(x,obj)\n",
    "    # for y in obj:\n",
    "    #     print(y + ':',obj[y])"
   ]
  },
  {
   "cell_type": "code",
   "execution_count": 97,
   "id": "fccb29bb",
   "metadata": {},
   "outputs": [
    {
     "name": "stdout",
     "output_type": "stream",
     "text": [
      "{1: 4, 2: 3, 3: 4, 5: 1, 7: 1, 4: 1}\n"
     ]
    }
   ],
   "source": [
    "#hashing using dictoary\n",
    "a=[1,2,3,1,2,3,1,2,5,7,3,3,1,4]\n",
    "hash={}\n",
    "for i in a:\n",
    "    hash[i] = hash.get(i,0)+1\n",
    "print(hash)"
   ]
  },
  {
   "cell_type": "code",
   "execution_count": 14,
   "id": "071f1af1",
   "metadata": {},
   "outputs": [
    {
     "name": "stdout",
     "output_type": "stream",
     "text": [
      "{1: 4, 2: 3, 3: 4, 5: 1, 7: 1, 4: 1}\n"
     ]
    }
   ],
   "source": [
    "a=[1,2,3,1,2,3,1,2,5,7,3,3,1,4]\n",
    "hash={}\n",
    "for i in a:\n",
    "    hash[i] = hash.get(i,0)+1\n",
    "print(hash)\n",
    "    "
   ]
  },
  {
   "cell_type": "code",
   "execution_count": null,
   "id": "eef0a91e",
   "metadata": {},
   "outputs": [
    {
     "name": "stdout",
     "output_type": "stream",
     "text": [
      "{'1': 'abc', '2': 'abcd', '3': 'acbcde', '4': 'xyz'}\n"
     ]
    }
   ],
   "source": [
    "dict={}\n",
    "for i in range(4):\n",
    "    key=input(f\"keys:{i+1}\")\n",
    "    value=input(f\"value for {key}: \")\n",
    "    dict[key]=value\n",
    "print(dict)\n"
   ]
  }
 ],
 "metadata": {
  "kernelspec": {
   "display_name": "Python 3",
   "language": "python",
   "name": "python3"
  },
  "language_info": {
   "codemirror_mode": {
    "name": "ipython",
    "version": 3
   },
   "file_extension": ".py",
   "mimetype": "text/x-python",
   "name": "python",
   "nbconvert_exporter": "python",
   "pygments_lexer": "ipython3",
   "version": "3.13.2"
  }
 },
 "nbformat": 4,
 "nbformat_minor": 5
}
