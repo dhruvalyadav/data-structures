{
 "cells": [
  {
   "cell_type": "code",
   "execution_count": 5,
   "id": "8bd7edbf",
   "metadata": {},
   "outputs": [
    {
     "name": "stdout",
     "output_type": "stream",
     "text": [
      "20\n",
      "[20, 30, 50]\n",
      "[30, 50]\n",
      "30\n"
     ]
    }
   ],
   "source": [
    "#queue\n",
    "class EmptyQueueErro:\n",
    "    pass\n",
    "class Queue:\n",
    "    def __init__(self):\n",
    "        self.items=[]\n",
    "    def is_empty(self):\n",
    "        if(len(self.items)==None):\n",
    "            return \n",
    "    def size(self):\n",
    "        return len(self.items)\n",
    "    def enqueue(self,data):\n",
    "        self.items.append(data)\n",
    "    def dequeue(self):\n",
    "        if self.is_empty():\n",
    "            raise EmptyQueueErro(\"empty\")\n",
    "        return self.items.pop(0)\n",
    "    def peek(self):\n",
    "        return self.items[0]\n",
    "    def display(self):\n",
    "        print(self.items)\n",
    "q=Queue()\n",
    "q.enqueue(10)\n",
    "q.enqueue(20)\n",
    "q.enqueue(30)\n",
    "q.enqueue(50)\n",
    "q.dequeue()\n",
    "print(q.peek())\n",
    "q.display()\n",
    "q.dequeue()\n",
    "q.display()\n",
    "print(q.peek())"
   ]
  },
  {
   "cell_type": "code",
   "execution_count": 2,
   "id": "7d64e956",
   "metadata": {},
   "outputs": [
    {
     "name": "stdout",
     "output_type": "stream",
     "text": [
      "4\n",
      "[4, 5, 56, None, None, None, None, None, None, None]\n"
     ]
    },
    {
     "ename": "TypeError",
     "evalue": "list indices must be integers or slices, not list",
     "output_type": "error",
     "traceback": [
      "\u001b[1;31m---------------------------------------------------------------------------\u001b[0m",
      "\u001b[1;31mTypeError\u001b[0m                                 Traceback (most recent call last)",
      "Cell \u001b[1;32mIn[2], line 41\u001b[0m\n\u001b[0;32m     39\u001b[0m \u001b[38;5;28mprint\u001b[39m(q\u001b[38;5;241m.\u001b[39mpeek())\n\u001b[0;32m     40\u001b[0m \u001b[38;5;28mprint\u001b[39m(q\u001b[38;5;241m.\u001b[39mdisplay())\n\u001b[1;32m---> 41\u001b[0m x\u001b[38;5;241m=\u001b[39m\u001b[43mq\u001b[49m\u001b[38;5;241;43m.\u001b[39;49m\u001b[43mdequeue\u001b[49m\u001b[43m(\u001b[49m\u001b[43m)\u001b[49m\n\u001b[0;32m     42\u001b[0m x\u001b[38;5;241m=\u001b[39mq\u001b[38;5;241m.\u001b[39mdequeue()\n\u001b[0;32m     43\u001b[0m \u001b[38;5;28mprint\u001b[39m(q\u001b[38;5;241m.\u001b[39mdisplay())\n",
      "Cell \u001b[1;32mIn[2], line 22\u001b[0m, in \u001b[0;36mcircularQueue.dequeue\u001b[1;34m(self)\u001b[0m\n\u001b[0;32m     20\u001b[0m     \u001b[38;5;28;01mreturn\u001b[39;00m \u001b[38;5;28mself\u001b[39m\u001b[38;5;241m.\u001b[39mempty()\n\u001b[0;32m     21\u001b[0m x\u001b[38;5;241m=\u001b[39m\u001b[38;5;28mself\u001b[39m\u001b[38;5;241m.\u001b[39mitems[\u001b[38;5;28mself\u001b[39m\u001b[38;5;241m.\u001b[39mfront]\n\u001b[1;32m---> 22\u001b[0m \u001b[38;5;28;43mself\u001b[39;49m\u001b[38;5;241;43m.\u001b[39;49m\u001b[43mitems\u001b[49m\u001b[43m[\u001b[49m\u001b[38;5;28;43mself\u001b[39;49m\u001b[38;5;241;43m.\u001b[39;49m\u001b[43mitems\u001b[49m\u001b[43m]\u001b[49m\u001b[38;5;241m=\u001b[39m\u001b[38;5;28;01mNone\u001b[39;00m\n\u001b[0;32m     23\u001b[0m \u001b[38;5;28mself\u001b[39m\u001b[38;5;241m.\u001b[39mfront\u001b[38;5;241m=\u001b[39m(\u001b[38;5;28mself\u001b[39m\u001b[38;5;241m.\u001b[39mfront\u001b[38;5;241m+\u001b[39m\u001b[38;5;241m1\u001b[39m)\u001b[38;5;241m%\u001b[39m\u001b[38;5;28mlen\u001b[39m(\u001b[38;5;28mself\u001b[39m\u001b[38;5;241m.\u001b[39mitems)\n\u001b[0;32m     24\u001b[0m \u001b[38;5;28mself\u001b[39m\u001b[38;5;241m.\u001b[39mcount\u001b[38;5;241m-\u001b[39m\u001b[38;5;241m=\u001b[39m\u001b[38;5;241m1\u001b[39m\n",
      "\u001b[1;31mTypeError\u001b[0m: list indices must be integers or slices, not list"
     ]
    }
   ],
   "source": [
    "#circular queue\n",
    "class circularQueue:\n",
    "    def __init__(self,default=10):\n",
    "        self.items=[None]*default\n",
    "        self.front=0\n",
    "        self.count=0\n",
    "    def empty(self):\n",
    "        if(self.count==0):\n",
    "            return\n",
    "    def size(self):\n",
    "        return self.count\n",
    "    def enqueue(self,item):\n",
    "        if(self.count)==len(self.items):\n",
    "            self.resize=2*(len(self.items))\n",
    "        i=(self.front+self.count)%len(self.items)\n",
    "        self.items[i]=item\n",
    "        self.count+=1\n",
    "    def dequeue(self):\n",
    "        if(self.count==0):\n",
    "            return self.empty()\n",
    "        x=self.items[self.front]\n",
    "        self.items[self.items]=None\n",
    "        self.front=(self.front+1)%len(self.items)\n",
    "        self.count-=1\n",
    "        return x\n",
    "    def peek(self):\n",
    "        return self.items[self.front]\n",
    "    def display(self):\n",
    "        return self.items\n",
    "    def resize(self,newsize):\n",
    "        old=self.items\n",
    "        self.items=[None]*newsize\n",
    "        i=self.front\n",
    "        \n",
    "q=circularQueue()\n",
    "q.enqueue(4)\n",
    "q.enqueue(5)\n",
    "q.enqueue(56)\n",
    "print(q.peek())\n",
    "print(q.display())\n",
    "x=q.dequeue()\n",
    "x=q.dequeue()\n",
    "print(q.display())\n",
    "\n",
    "    \n",
    "            \n"
   ]
  }
 ],
 "metadata": {
  "kernelspec": {
   "display_name": "Python 3",
   "language": "python",
   "name": "python3"
  },
  "language_info": {
   "codemirror_mode": {
    "name": "ipython",
    "version": 3
   },
   "file_extension": ".py",
   "mimetype": "text/x-python",
   "name": "python",
   "nbconvert_exporter": "python",
   "pygments_lexer": "ipython3",
   "version": "3.13.2"
  }
 },
 "nbformat": 4,
 "nbformat_minor": 5
}
