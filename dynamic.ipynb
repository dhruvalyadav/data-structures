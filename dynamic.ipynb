{
 "cells": [
  {
   "cell_type": "code",
   "execution_count": 13,
   "id": "e1ba394b",
   "metadata": {},
   "outputs": [
    {
     "name": "stdout",
     "output_type": "stream",
     "text": [
      "3\n"
     ]
    }
   ],
   "source": [
    "#top down approch fibonaccis series\n",
    "def fib(n,rem={}):\n",
    "    if n==0:\n",
    "        return 0\n",
    "    if n==1:\n",
    "        return 1\n",
    "    if n in rem:\n",
    "        return rem[n]\n",
    "    \n",
    "    rem[n]=fib(n-1,rem)+fib(n-2,rem)\n",
    "    return rem[n]\n",
    "print(fib(4))"
   ]
  },
  {
   "cell_type": "code",
   "execution_count": 12,
   "id": "0efb0bd2",
   "metadata": {},
   "outputs": [
    {
     "name": "stdout",
     "output_type": "stream",
     "text": [
      "3\n"
     ]
    }
   ],
   "source": [
    "#bottom up approach for fibonaciss series\n",
    "def fib(n):\n",
    "    if(n<=1):\n",
    "        return n\n",
    "    dp=[0]*(n+1)\n",
    "    dp[0],dp[1]=0,1\n",
    "    for i in range(2,n+1):\n",
    "        dp[i]=fib(i-1)+fib(i-2)\n",
    "    return dp[n]\n",
    "print(fib(4))"
   ]
  },
  {
   "cell_type": "code",
   "execution_count": null,
   "id": "24693341",
   "metadata": {},
   "outputs": [],
   "source": []
  }
 ],
 "metadata": {
  "kernelspec": {
   "display_name": "Python 3",
   "language": "python",
   "name": "python3"
  },
  "language_info": {
   "codemirror_mode": {
    "name": "ipython",
    "version": 3
   },
   "file_extension": ".py",
   "mimetype": "text/x-python",
   "name": "python",
   "nbconvert_exporter": "python",
   "pygments_lexer": "ipython3",
   "version": "3.13.2"
  }
 },
 "nbformat": 4,
 "nbformat_minor": 5
}
