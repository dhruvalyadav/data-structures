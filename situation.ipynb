{
 "cells": [
  {
   "cell_type": "code",
   "execution_count": null,
   "id": "406c19cd",
   "metadata": {},
   "outputs": [],
   "source": [
    "#baba Tillu"
   ]
  },
  {
   "cell_type": "code",
   "execution_count": null,
   "id": "e5670168",
   "metadata": {},
   "outputs": [],
   "source": [
    "#track assignment submssions\n",
    "students=[\"A\",\"B\",\"C\"]\n",
    "done=list(map(input().split()))\n",
    "days=int(input())\n",
    "for i in range(days):\n",
    "    "
   ]
  },
  {
   "cell_type": "code",
   "execution_count": 4,
   "id": "f7b6ef65",
   "metadata": {},
   "outputs": [
    {
     "name": "stdout",
     "output_type": "stream",
     "text": [
      "{'T': 3, 'h': 6, 'e': 9, ' ': 13, 's': 6, 'u': 2, 'n': 8, 'i': 3, '.': 3, 'm': 2, 'o': 6, 't': 3, 'a': 2, 'd': 2, 'r': 2, 'f': 2}\n"
     ]
    }
   ],
   "source": [
    "#word frequency and position trackers\n",
    "text=\"The sun shines. The moon shines too. The sun and the moon are different.\"\n",
    "dict={}\n",
    "positions=[]\n",
    "for i in text:\n",
    "    dict[i]=dict.get(i,0)+1\n",
    "print(dict)"
   ]
  },
  {
   "cell_type": "code",
   "execution_count": 15,
   "id": "4dea235a",
   "metadata": {},
   "outputs": [
    {
     "name": "stdout",
     "output_type": "stream",
     "text": [
      "dog\n"
     ]
    }
   ],
   "source": [
    "#most frequent word in list\n",
    "def frequent(text):\n",
    "    freq={}\n",
    "    for i in text:\n",
    "        freq[i]=freq.get(i,0)+1\n",
    "    return max(freq,key=freq.get)\n",
    "print(frequent([\"cat\", \"dog\", \"cat\", \"mouse\", \"dog\", \"dog\"]))"
   ]
  },
  {
   "cell_type": "code",
   "execution_count": 18,
   "id": "ad629dbc",
   "metadata": {},
   "outputs": [
    {
     "name": "stdout",
     "output_type": "stream",
     "text": [
      "{1: ['a', 'c'], 2: ['b']}\n"
     ]
    }
   ],
   "source": [
    "#invent a dictonary\n",
    "def invert(dict):\n",
    "    res={}\n",
    "    for key,value in dict.items():\n",
    "        if(value not in res):\n",
    "            res[value] =[]\n",
    "        res[value].append(key)\n",
    "    return res\n",
    "print(invert({'a':1,'b':2,'c':1}))\n"
   ]
  },
  {
   "cell_type": "code",
   "execution_count": null,
   "id": "973f49ca",
   "metadata": {},
   "outputs": [],
   "source": [
    "#furr real"
   ]
  },
  {
   "cell_type": "code",
   "execution_count": null,
   "id": "c1b1e0b8",
   "metadata": {},
   "outputs": [
    {
     "name": "stdout",
     "output_type": "stream",
     "text": [
      "('fire', 'water', 'earth', 'air')\n"
     ]
    }
   ],
   "source": [
    "#cave repetation\n",
    "s=('fire', 'water', 'fire', 'earth', 'air', 'earth')\n",
    "seen=set()\n",
    "res=[]\n",
    "for i in s:\n",
    "    if i not in seen:\n",
    "        seen.add(i) # to avoid repetation\n",
    "        res.append(i)# to build answer\n",
    "print(tuple(res))\n"
   ]
  },
  {
   "cell_type": "code",
   "execution_count": 25,
   "id": "9e3ac4da",
   "metadata": {},
   "outputs": [
    {
     "name": "stdout",
     "output_type": "stream",
     "text": [
      "('P001', 'P004')\n"
     ]
    }
   ],
   "source": [
    "#flat packages\n",
    "t=((\"P001\", (30, 20, 0)),(\"P002\",(25, 15, 10)),(\"P003\", (40, 25, 10)),(\"P004\", (50, 30, 0)))\n",
    "flat=[]\n",
    "for i in t:\n",
    "    if(i[1][2]==0):\n",
    "        flat.append(i[0])\n",
    "print(tuple(flat))\n"
   ]
  },
  {
   "cell_type": "code",
   "execution_count": 23,
   "id": "18da14d7",
   "metadata": {},
   "outputs": [
    {
     "name": "stdout",
     "output_type": "stream",
     "text": [
      "(2, 3)\n"
     ]
    }
   ],
   "source": [
    "#find scores with given threshold\n",
    "Scores = [(85, 80, 82), (90, 70, 75), (78, 77, 79), (92, 91, 89)]\n",
    "Th = 2\n",
    "ans=[]\n",
    "for i in range(len(Scores)):\n",
    "    if((Scores[i][0]-Scores[i][1] <=Th) and (Scores[i][1]-Scores[i][2]<=Th) and (Scores[i][2]-Scores[i][0]<=Th)):\n",
    "        ans.append(i)\n",
    "print(tuple(ans))"
   ]
  },
  {
   "cell_type": "code",
   "execution_count": null,
   "id": "b01730cb",
   "metadata": {},
   "outputs": [],
   "source": [
    "#destinations\n",
    "Destinations=[(\"Paris\", 25000), (\"London\", 22000),(\"Tokyo\", 30000), (\"Dubai\", 18000)]\n",
    "Budget= 40000"
   ]
  },
  {
   "cell_type": "code",
   "execution_count": null,
   "id": "085fea23",
   "metadata": {},
   "outputs": [],
   "source": [
    "#lububu doll"
   ]
  },
  {
   "cell_type": "code",
   "execution_count": 37,
   "id": "c7eebc19",
   "metadata": {},
   "outputs": [
    {
     "name": "stdout",
     "output_type": "stream",
     "text": [
      "{1, 2, 3, 4, 5, 6}\n"
     ]
    }
   ],
   "source": [
    "a=[1,1,2,2,3,3,4,4,5,3,6]\n",
    "seen=set()\n",
    "for i in range(0,len(a)-1):\n",
    "    if(i in seen):\n",
    "        a.pop(i)\n",
    "    else:\n",
    "        seen.add(a[i])\n",
    "print(seen)"
   ]
  },
  {
   "cell_type": "code",
   "execution_count": null,
   "id": "b8d0ef37",
   "metadata": {},
   "outputs": [
    {
     "name": "stdout",
     "output_type": "stream",
     "text": [
      "9\n"
     ]
    }
   ],
   "source": [
    "a=lambda x: \n",
    "print(a(x=10))"
   ]
  },
  {
   "cell_type": "code",
   "execution_count": 10,
   "id": "53e38552",
   "metadata": {},
   "outputs": [
    {
     "name": "stdout",
     "output_type": "stream",
     "text": [
      "30\n"
     ]
    }
   ],
   "source": [
    "a=lambda x=10,y=20:x+y\n",
    "print(a())\n"
   ]
  }
 ],
 "metadata": {
  "kernelspec": {
   "display_name": "Python 3",
   "language": "python",
   "name": "python3"
  },
  "language_info": {
   "codemirror_mode": {
    "name": "ipython",
    "version": 3
   },
   "file_extension": ".py",
   "mimetype": "text/x-python",
   "name": "python",
   "nbconvert_exporter": "python",
   "pygments_lexer": "ipython3",
   "version": "3.13.2"
  }
 },
 "nbformat": 4,
 "nbformat_minor": 5
}
