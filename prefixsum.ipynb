{
 "cells": [
  {
   "cell_type": "code",
   "execution_count": 2,
   "id": "a59752a7",
   "metadata": {},
   "outputs": [
    {
     "name": "stdout",
     "output_type": "stream",
     "text": [
      "[2, 6, 12, 20]\n"
     ]
    }
   ],
   "source": [
    "#input: arr = [2, 4, 6, 8]\n",
    "#Output: prefix = [2, 6, 12, 20]\n",
    "\n",
    "arr=[2,4,6,8]\n",
    "sum=0\n",
    "ans=[]\n",
    "for i in range(0,len(arr)):\n",
    "    sum+=arr[i]\n",
    "    ans.append(sum)\n",
    "print(ans)"
   ]
  },
  {
   "cell_type": "code",
   "execution_count": 4,
   "id": "01b85071",
   "metadata": {},
   "outputs": [
    {
     "name": "stdout",
     "output_type": "stream",
     "text": [
      "5\n"
     ]
    }
   ],
   "source": [
    "# arr = [1, 2, 3, 4, 5]\n",
    "# queries = [(1, 3), (0, 4), (2, 2)]\n",
    "\n",
    "def prefix(arr,sum,start,end):\n",
    "    for i in range(start,end):\n",
    "        sum+=arr[i]\n",
    "    return sum\n",
    "sum=0\n",
    "start=1\n",
    "end=3\n",
    "arr = [1, 2, 3, 4, 5]\n",
    "v=prefix(arr,sum,start,end)\n",
    "print(v)"
   ]
  },
  {
   "cell_type": "code",
   "execution_count": null,
   "id": "7cefef5e",
   "metadata": {},
   "outputs": [],
   "source": []
  }
 ],
 "metadata": {
  "kernelspec": {
   "display_name": "Python 3",
   "language": "python",
   "name": "python3"
  },
  "language_info": {
   "codemirror_mode": {
    "name": "ipython",
    "version": 3
   },
   "file_extension": ".py",
   "mimetype": "text/x-python",
   "name": "python",
   "nbconvert_exporter": "python",
   "pygments_lexer": "ipython3",
   "version": "3.13.2"
  }
 },
 "nbformat": 4,
 "nbformat_minor": 5
}
