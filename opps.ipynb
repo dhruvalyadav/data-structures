{
 "cells": [
  {
   "cell_type": "code",
   "execution_count": null,
   "id": "bc59b527",
   "metadata": {},
   "outputs": [],
   "source": [
    "class Student:\n",
    "    name=\"\" \n",
    "\n",
    "#object\n",
    "student1=Student()\n",
    "student1.name='abc'\n"
   ]
  },
  {
   "cell_type": "code",
   "execution_count": null,
   "id": "4d54fd59",
   "metadata": {},
   "outputs": [
    {
     "name": "stdout",
     "output_type": "stream",
     "text": [
      "student name mn\n",
      "roll is 10\n",
      "college is abc is name\n",
      " it is prof name,hod is lo\n"
     ]
    }
   ],
   "source": [
    "#encapsulation\n",
    "# binding of data and methods that manipulate them into single unit\n",
    "# data hiding using private ,protected memebers\n",
    "# data wrapping means combining variales and methods in single unit called class\n",
    "class College:\n",
    "    def __init__(self,name,year):\n",
    "        self.__name=name # private arribute\n",
    "        self.year=year #public attribute\n",
    "    def getcollege(self):\n",
    "        return f\"{self.__name} is name\"\n",
    "class department:\n",
    "    def __init__(self,name,hod):\n",
    "        self.__name=name\n",
    "        self.__hod=hod\n",
    "    def getdept(self): #getter setter method to access internal data\n",
    "        return f\"{self.__name} is prof name,hod is {self.__hod}\"\n",
    "class student:\n",
    "    def __init__(self,name,roll,college,dept,year):\n",
    "        self.__name=name\n",
    "        self.__roll=roll\n",
    "        self.__college=college #composition\n",
    "        self.__dept=dept\n",
    "        self.year=year\n",
    "    def getinfo(self):\n",
    "        return (\n",
    "            f\"student name {self.__name}\\n\" f\"roll is {self.__roll}\\n\" f\"college is {self.__college.getcollege()}\\n\" f\" {self.__dept.getdept()}\"\n",
    "        )\n",
    "college=College('abc',2001)\n",
    "dept=department('it','lo')\n",
    "stu=student('mn','10',college,dept,2002)\n",
    "print(stu.getinfo())"
   ]
  },
  {
   "cell_type": "code",
   "execution_count": 12,
   "id": "2696d6e3",
   "metadata": {},
   "outputs": [
    {
     "ename": "TypeError",
     "evalue": "student.__init__() missing 3 required positional arguments: 'college', 'dept', and 'year'",
     "output_type": "error",
     "traceback": [
      "\u001b[1;31m---------------------------------------------------------------------------\u001b[0m",
      "\u001b[1;31mTypeError\u001b[0m                                 Traceback (most recent call last)",
      "Cell \u001b[1;32mIn[12], line 33\u001b[0m\n\u001b[0;32m     30\u001b[0m     \u001b[38;5;28;01mdef\u001b[39;00m\u001b[38;5;250m \u001b[39m\u001b[38;5;21mget_institution_info\u001b[39m(\u001b[38;5;28mself\u001b[39m):\n\u001b[0;32m     31\u001b[0m         \u001b[38;5;28;01mreturn\u001b[39;00m \u001b[38;5;124mf\u001b[39m\u001b[38;5;124m\"\u001b[39m\u001b[38;5;124mDepartment: \u001b[39m\u001b[38;5;132;01m{\u001b[39;00m\u001b[38;5;28mself\u001b[39m\u001b[38;5;241m.\u001b[39mdept_name\u001b[38;5;132;01m}\u001b[39;00m\u001b[38;5;124m, HOD: \u001b[39m\u001b[38;5;132;01m{\u001b[39;00m\u001b[38;5;28mself\u001b[39m\u001b[38;5;241m.\u001b[39mhod\u001b[38;5;132;01m}\u001b[39;00m\u001b[38;5;124m\"\u001b[39m\n\u001b[1;32m---> 33\u001b[0m studs\u001b[38;5;241m=\u001b[39m\u001b[43mstudent\u001b[49m\u001b[43m(\u001b[49m\u001b[38;5;124;43m'\u001b[39;49m\u001b[38;5;124;43mabc\u001b[39;49m\u001b[38;5;124;43m'\u001b[39;49m\u001b[43m,\u001b[49m\u001b[38;5;124;43m'\u001b[39;49m\u001b[38;5;124;43m101\u001b[39;49m\u001b[38;5;124;43m'\u001b[39;49m\u001b[43m)\u001b[49m\n\u001b[0;32m     34\u001b[0m dept\u001b[38;5;241m=\u001b[39mDepartemnt(\u001b[38;5;124m'\u001b[39m\u001b[38;5;124mit\u001b[39m\u001b[38;5;124m'\u001b[39m,\u001b[38;5;124m'\u001b[39m\u001b[38;5;124mlo\u001b[39m\u001b[38;5;124m'\u001b[39m)\n\u001b[0;32m     35\u001b[0m college\u001b[38;5;241m=\u001b[39mCollege(\u001b[38;5;124m'\u001b[39m\u001b[38;5;124mmit\u001b[39m\u001b[38;5;124m'\u001b[39m,\u001b[38;5;124m'\u001b[39m\u001b[38;5;124mpune\u001b[39m\u001b[38;5;124m'\u001b[39m)\n",
      "\u001b[1;31mTypeError\u001b[0m: student.__init__() missing 3 required positional arguments: 'college', 'dept', and 'year'"
     ]
    }
   ],
   "source": [
    "#abstraction\n",
    "\n",
    "#hiding internal details and only showing essential features\n",
    "#abstrat methid and abstract class\n",
    "from abc import abstractmethod,ABC\n",
    "class Person(ABC):\n",
    "    @abstractmethod\n",
    "    def get_details(self):\n",
    "        pass\n",
    "class Student(Person):\n",
    "    def __init__(self,roll,name):\n",
    "        self.__name=name\n",
    "        self.roll=roll\n",
    "    def get_details(self):\n",
    "        return f'name: {self.__name} and roll {self.roll}'\n",
    "class Institute(ABC):\n",
    "    @abstractmethod\n",
    "    def get_info(self):\n",
    "        pass\n",
    "class College(Institute):\n",
    "    def __init__(self, name, location):\n",
    "        self.name = name\n",
    "        self.location = location\n",
    "    def get_info(self):\n",
    "        return f\"College: {self.name}, Location: {self.location}\"\n",
    "class Departemnt(Institute):\n",
    "    def __init__(self, dept_name, hod):\n",
    "        self.dept_name = dept_name\n",
    "        self.hod = hod\n",
    "    def get_institution_info(self):\n",
    "        return f\"Department: {self.dept_name}, HOD: {self.hod}\"\n",
    "\n",
    "studs=student('abc','101')\n",
    "dept=Departemnt('it','lo')\n",
    "college=College('mit','pune')\n",
    "\n",
    "print(studs.getinfo())\n",
    "print(dept.get_info())\n",
    "print(college.get_info())"
   ]
  },
  {
   "cell_type": "code",
   "execution_count": null,
   "id": "d4e4be45",
   "metadata": {},
   "outputs": [
    {
     "name": "stdout",
     "output_type": "stream",
     "text": [
      "name abc,Age 30\n",
      "id is 25000 salary is 10\n",
      "department: it\n"
     ]
    }
   ],
   "source": [
    "#inheritance \n",
    "\n",
    "#allows child class to acquire properties methods of parent\n",
    "class Person:\n",
    "    def __init__(self,name,age):\n",
    "        self.name=name\n",
    "        self.age=age\n",
    "    def show(self):\n",
    "        return f\"name {self.name},Age {self.age}\"     \n",
    "class Employee(Person):\n",
    "    def __init__(self,name,age,id,salary):\n",
    "        super().__init__(name,age)\n",
    "        self.id=id\n",
    "        self.salary=salary\n",
    "    def info(self):\n",
    "        return (f\"{self.show()}\\n\" f\"id is {self.id} salary is {self.salary}\")   \n",
    "class Manager(Employee):\n",
    "    def __init__(self,name,id,salary,dept,age):\n",
    "        super().__init__(name,age,salary,id)\n",
    "        self.dept=dept\n",
    "    def showdept(self):\n",
    "        return f\"{self.info()}\\n\" f\"department: {self.dept}\"\n",
    "\n",
    "manager=Manager('abc',10,25000,'it',30)\n",
    "print(manager.showdept())"
   ]
  },
  {
   "cell_type": "code",
   "execution_count": 17,
   "id": "a238b2ad",
   "metadata": {},
   "outputs": [
    {
     "name": "stdout",
     "output_type": "stream",
     "text": [
      "this is person\n",
      "this is employee\n",
      "this is manager\n"
     ]
    }
   ],
   "source": [
    "# polymorphism \n",
    "\n",
    "#complie time ploymorphism (method overloading)\n",
    "# runtime ploymorphism (methid overriding)\n",
    "\n",
    "class Person:\n",
    "    def show(self):\n",
    "        return \"this is person\"\n",
    "class Employee:\n",
    "    def show(self):\n",
    "        return \"this is employee\"\n",
    "class Manager:\n",
    "    def show(self):\n",
    "        return \"this is manager\"\n",
    "\n",
    "def info(obj):\n",
    "    print(obj.show())\n",
    "p=Person()\n",
    "e=Employee()\n",
    "m=Manager()\n",
    "\n",
    "info(p)\n",
    "info(e)\n",
    "info(m)"
   ]
  },
  {
   "cell_type": "code",
   "execution_count": null,
   "id": "9db8f8ba",
   "metadata": {},
   "outputs": [
    {
     "name": "stdout",
     "output_type": "stream",
     "text": [
      "final 300\n"
     ]
    }
   ],
   "source": [
    "class Student:\n",
    "    def __init__(self,marks):\n",
    "        self.__marks = marks\n",
    "    def set_marks(self,marks):\n",
    "        if(0<marks<100):\n",
    "            self.__marks= marks\n",
    "        else:\n",
    "            return \"invalid input\"\n",
    "    def get_marks(self):\n",
    "        return self.__marks\n",
    "    \n",
    "class Bank:\n",
    "    def __init__(self,balance):\n",
    "        self.__balance=balance\n",
    "    def deposite(self,amount):\n",
    "        if amount > 0:\n",
    "            self.__balance+=amount\n",
    "        else:\n",
    "            print(\"Not deposited\")\n",
    "    def withdraw(self,amount):\n",
    "        if 0< amount< self.__balance:\n",
    "            self.__balance-=amount\n",
    "        else:\n",
    "            print(\"Not enough balance\")\n",
    "    def get_balance(self):\n",
    "        return self.__balance\n",
    "    \n",
    "acc= Bank(1000)\n",
    "acc.deposite(500)\n",
    "acc.withdraw(1200)\n",
    "print(\"final\",acc.get_balance())"
   ]
  }
 ],
 "metadata": {
  "kernelspec": {
   "display_name": "Python 3",
   "language": "python",
   "name": "python3"
  },
  "language_info": {
   "codemirror_mode": {
    "name": "ipython",
    "version": 3
   },
   "file_extension": ".py",
   "mimetype": "text/x-python",
   "name": "python",
   "nbconvert_exporter": "python",
   "pygments_lexer": "ipython3",
   "version": "3.13.2"
  }
 },
 "nbformat": 4,
 "nbformat_minor": 5
}
