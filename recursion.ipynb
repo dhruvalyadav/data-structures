{
 "cells": [
  {
   "cell_type": "code",
   "execution_count": 6,
   "id": "05d2fa6f",
   "metadata": {},
   "outputs": [
    {
     "name": "stdout",
     "output_type": "stream",
     "text": [
      "disk moved 1 moved form a to rod b\n",
      "disk moved 2 moved form a to rod c\n",
      "disk moved 1 moved form c to rod b\n",
      "disk moved 3 moved form a to rod b\n",
      "disk moved 1 moved form b to rod a\n",
      "disk moved 2 moved form b to rod c\n",
      "disk moved 1 moved form c to rod a\n",
      "disk moved 4 moved form a to rod c\n",
      "disk moved 1 moved form c to rod b\n",
      "disk moved 2 moved form c to rod a\n",
      "disk moved 1 moved form a to rod b\n",
      "disk moved 3 moved form c to rod b\n",
      "disk moved 1 moved form b to rod c\n",
      "disk moved 2 moved form b to rod a\n",
      "disk moved 1 moved form a to rod c\n"
     ]
    }
   ],
   "source": [
    "#tower of hanoi\n",
    "n=int(input())\n",
    "def move(n,a,b,c):\n",
    "    if n==0:\n",
    "        return\n",
    "    move(n-1,a,c,b)\n",
    "    print(\"disk moved\",n,\"moved form\",a,\"to rod\",b)\n",
    "    move(n-1,b,c,a)\n",
    "    \n",
    "\n",
    "move(n,'a','c','b')"
   ]
  },
  {
   "cell_type": "code",
   "execution_count": null,
   "id": "fc0e41c5",
   "metadata": {},
   "outputs": [
    {
     "name": "stdout",
     "output_type": "stream",
     "text": [
      "55\n"
     ]
    }
   ],
   "source": [
    "#fibonacci numbers\n",
    "def fib(n): #recursive backtracking \n",
    "    if(n==0): \n",
    "        return 0\n",
    "    if n==1:\n",
    "        return 1\n",
    "    return fib(n-1)+fib(n-2)\n",
    "print(fib(10)) #tc=O(2^n)\n"
   ]
  },
  {
   "cell_type": "code",
   "execution_count": null,
   "id": "02eaefc8",
   "metadata": {},
   "outputs": [],
   "source": []
  }
 ],
 "metadata": {
  "kernelspec": {
   "display_name": "Python 3",
   "language": "python",
   "name": "python3"
  },
  "language_info": {
   "codemirror_mode": {
    "name": "ipython",
    "version": 3
   },
   "file_extension": ".py",
   "mimetype": "text/x-python",
   "name": "python",
   "nbconvert_exporter": "python",
   "pygments_lexer": "ipython3",
   "version": "3.13.2"
  }
 },
 "nbformat": 4,
 "nbformat_minor": 5
}
