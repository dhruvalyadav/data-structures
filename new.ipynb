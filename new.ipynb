{
 "cells": [
  {
   "cell_type": "code",
   "execution_count": null,
   "id": "b5354708",
   "metadata": {},
   "outputs": [
    {
     "ename": "TypeError",
     "evalue": "descriptor 'append' for 'list' objects doesn't apply to a 'int' object",
     "output_type": "error",
     "traceback": [
      "\u001b[1;31m---------------------------------------------------------------------------\u001b[0m",
      "\u001b[1;31mTypeError\u001b[0m                                 Traceback (most recent call last)",
      "Cell \u001b[1;32mIn[3], line 13\u001b[0m\n\u001b[0;32m     10\u001b[0m \u001b[38;5;28;01mdef\u001b[39;00m\u001b[38;5;250m \u001b[39m\u001b[38;5;21mshow\u001b[39m(st):\n\u001b[0;32m     11\u001b[0m     \u001b[38;5;28mprint\u001b[39m(st)\n\u001b[1;32m---> 13\u001b[0m \u001b[43mpush\u001b[49m\u001b[43m(\u001b[49m\u001b[38;5;241;43m1\u001b[39;49m\u001b[43m)\u001b[49m\n\u001b[0;32m     14\u001b[0m push(\u001b[38;5;241m3\u001b[39m)\n\u001b[0;32m     15\u001b[0m push(\u001b[38;5;241m5\u001b[39m)\n",
      "Cell \u001b[1;32mIn[3], line 5\u001b[0m, in \u001b[0;36mpush\u001b[1;34m(st)\u001b[0m\n\u001b[0;32m      4\u001b[0m \u001b[38;5;28;01mdef\u001b[39;00m\u001b[38;5;250m \u001b[39m\u001b[38;5;21mpush\u001b[39m(st):\n\u001b[1;32m----> 5\u001b[0m     st \u001b[38;5;241m=\u001b[39m \u001b[38;5;28;43mlist\u001b[39;49m\u001b[38;5;241;43m.\u001b[39;49m\u001b[43mappend\u001b[49m\u001b[43m(\u001b[49m\u001b[43mst\u001b[49m\u001b[43m)\u001b[49m\n\u001b[0;32m      6\u001b[0m     top\u001b[38;5;241m+\u001b[39m\u001b[38;5;241m=\u001b[39m\u001b[38;5;241m1\u001b[39m\n",
      "\u001b[1;31mTypeError\u001b[0m: descriptor 'append' for 'list' objects doesn't apply to a 'int' object"
     ]
    }
   ],
   "source": [
    "# # Stack\n",
    "# st = []\n",
    "# top = -1\n",
    "# def push(st):\n",
    "#     st = list.append(st)\n",
    "#     top+=1\n",
    "# def pop():\n",
    "#     st.remove()\n",
    "#     top-=1\n",
    "# def show(st):\n",
    "#     print(st)\n",
    "\n"
   ]
  },
  {
   "cell_type": "code",
   "execution_count": null,
   "id": "3ae6817f",
   "metadata": {},
   "outputs": [],
   "source": []
  },
  {
   "cell_type": "code",
   "execution_count": 4,
   "id": "386e84e9",
   "metadata": {},
   "outputs": [
    {
     "name": "stdout",
     "output_type": "stream",
     "text": [
      "negative\n"
     ]
    }
   ],
   "source": [
    "# day 4\n",
    "# positive negative and zero\n",
    "a = int(input(\"enter number: \"))\n",
    "if(a>0):\n",
    "    print(\"positive\")\n",
    "elif(a==0):\n",
    "    print(\"zero\")\n",
    "else:\n",
    "    print(\"negative\")"
   ]
  },
  {
   "cell_type": "code",
   "execution_count": null,
   "id": "ec9464d7",
   "metadata": {},
   "outputs": [],
   "source": [
    "# check in which quadrant\n",
    "\n",
    "x,y = map(int,input().split())\n",
    "if(x>=0 and y>=0):\n",
    "    print(\"First Quadrant\")\n"
   ]
  },
  {
   "cell_type": "code",
   "execution_count": 7,
   "id": "3a726a4f",
   "metadata": {},
   "outputs": [
    {
     "name": "stdout",
     "output_type": "stream",
     "text": [
      "odd\n"
     ]
    }
   ],
   "source": [
    "n= 15\n",
    "if(bin(n)[-1]==\"1\"):\n",
    "    print(\"odd\")\n",
    "else:\n",
    "    print(\"even\")"
   ]
  },
  {
   "cell_type": "code",
   "execution_count": null,
   "id": "775d132d",
   "metadata": {},
   "outputs": [
    {
     "name": "stdout",
     "output_type": "stream",
     "text": [
      "odd\n"
     ]
    }
   ],
   "source": [
    "n=5\n",
    "if(bin(n)[2:] and 1 == True):\n",
    "    print(\"even\")\n",
    "else:\n",
    "    print('odd')"
   ]
  },
  {
   "cell_type": "code",
   "execution_count": 18,
   "id": "99332aaa",
   "metadata": {},
   "outputs": [
    {
     "name": "stdout",
     "output_type": "stream",
     "text": [
      "odd\n"
     ]
    }
   ],
   "source": [
    "n = 5\n",
    "if(bin(n) and 1):\n",
    "    print(\"odd\")\n",
    "else:\n",
    "    print(\"even\")"
   ]
  },
  {
   "cell_type": "code",
   "execution_count": null,
   "id": "14cdc5a1",
   "metadata": {},
   "outputs": [
    {
     "name": "stdout",
     "output_type": "stream",
     "text": [
      "Delightful\n"
     ]
    }
   ],
   "source": [
    "t = input(\"Enter a character: \")\n",
    "t.lower()\n",
    "a = \"Dhruval\"\n",
    "if(a[0]=='D'):\n",
    "    print(\"Delightful\")\n",
    "elif(a[1]==\"h\"):\n",
    "    print(\"Happy\")\n",
    "elif(a[2]=='r'):\n",
    "    print(\"righteous\")\n",
    "elif(a[3]=='u'):\n",
    "    print(\"universal\")\n",
    "elif(a[4]=='v'):\n",
    "    print(\"versitile\")\n",
    "elif(a[5]=='a'):\n",
    "    print(\"always happy\")\n",
    "elif(a[6]==\"l\"):\n",
    "    print(\"liberate\")\n",
    "else:\n",
    "    print(\"Invalid input\")\n"
   ]
  },
  {
   "cell_type": "code",
   "execution_count": 4,
   "id": "7ee23b73",
   "metadata": {},
   "outputs": [
    {
     "name": "stdout",
     "output_type": "stream",
     "text": [
      "hello\n",
      "hey\n"
     ]
    }
   ],
   "source": [
    "#nested if\n",
    "if(1):\n",
    "    print(\"hello\")\n",
    "    if(2):\n",
    "        print(\"hey\")\n",
    "    else:\n",
    "        print(\"bye\")\n",
    "else:\n",
    "    print(\"good\")"
   ]
  },
  {
   "cell_type": "code",
   "execution_count": 13,
   "id": "2eaf2a42",
   "metadata": {},
   "outputs": [
    {
     "name": "stdout",
     "output_type": "stream",
     "text": [
      "adgj\n"
     ]
    }
   ],
   "source": [
    "a= \"abcdefghijk\"\n",
    "print(a[::3])"
   ]
  },
  {
   "cell_type": "code",
   "execution_count": 17,
   "id": "b293f9d3",
   "metadata": {},
   "outputs": [
    {
     "name": "stdout",
     "output_type": "stream",
     "text": [
      "even\n"
     ]
    }
   ],
   "source": [
    "a=10\n",
    "if(a>>1<<1 ==a):\n",
    "    print('even')\n",
    "else:\n",
    "    print('odd')\n"
   ]
  },
  {
   "cell_type": "code",
   "execution_count": null,
   "id": "a28862c9",
   "metadata": {},
   "outputs": [
    {
     "name": "stdout",
     "output_type": "stream",
     "text": [
      "[1, 4, 27, 16, 125, 36, 343, 64]\n"
     ]
    }
   ],
   "source": [
    "a = []\n",
    "n= 10\n",
    "for i in range(1,n-1):\n",
    "    if(i%2==0):\n",
    "        a.append(i**2)\n",
    "    else:\n",
    "        a.append(i**3)\n",
    "print(a)"
   ]
  },
  {
   "cell_type": "code",
   "execution_count": 21,
   "id": "8c94aeae",
   "metadata": {},
   "outputs": [
    {
     "name": "stdout",
     "output_type": "stream",
     "text": [
      "125\n"
     ]
    }
   ],
   "source": [
    "n= 10\n",
    "if(n%2==0):\n",
    "    print((n//2)**3)\n",
    "else:\n",
    "    print((n//2+1)**2)"
   ]
  },
  {
   "cell_type": "code",
   "execution_count": 8,
   "id": "dfd22e2f",
   "metadata": {},
   "outputs": [
    {
     "name": "stdout",
     "output_type": "stream",
     "text": [
      "not a leap year\n"
     ]
    }
   ],
   "source": [
    "n = 2013\n",
    "if(n%4==0):\n",
    "    if(n%100):\n",
    "        if(n%400):\n",
    "            print(\"Leap year\")\n",
    "        else:\n",
    "            print(\"not a leap year\")\n",
    "    else:\n",
    "        print(\"leap year\")\n",
    "else:\n",
    "    print(\"not a leap year\")"
   ]
  },
  {
   "cell_type": "code",
   "execution_count": 13,
   "id": "a1074a06",
   "metadata": {},
   "outputs": [
    {
     "name": "stdout",
     "output_type": "stream",
     "text": [
      "[-10, -9, -8, -7, -6]\n"
     ]
    }
   ],
   "source": [
    "a = range(-10,-5)\n",
    "b = list(a)\n",
    "print(b)"
   ]
  },
  {
   "cell_type": "code",
   "execution_count": 20,
   "id": "074e97c7",
   "metadata": {},
   "outputs": [
    {
     "name": "stdout",
     "output_type": "stream",
     "text": [
      "0\n",
      "2\n",
      "4\n",
      "6\n",
      "8\n",
      "10\n",
      "12\n",
      "14\n",
      "16\n",
      "18\n",
      "20\n",
      "22\n",
      "24\n",
      "26\n",
      "28\n",
      "30\n",
      "32\n",
      "34\n",
      "36\n",
      "38\n",
      "40\n",
      "42\n",
      "44\n",
      "46\n",
      "48\n",
      "50\n",
      "52\n",
      "54\n",
      "56\n",
      "58\n",
      "60\n",
      "62\n",
      "64\n",
      "66\n",
      "68\n",
      "70\n",
      "72\n",
      "74\n",
      "76\n",
      "78\n",
      "80\n",
      "82\n",
      "84\n",
      "86\n",
      "88\n",
      "90\n",
      "92\n",
      "94\n",
      "96\n",
      "98\n"
     ]
    }
   ],
   "source": [
    "n= int(input())\n",
    "for i in range(0,100,n):\n",
    "    print(f\"{i}\")"
   ]
  },
  {
   "cell_type": "code",
   "execution_count": 21,
   "id": "5a9d4e0e",
   "metadata": {},
   "outputs": [
    {
     "name": "stdout",
     "output_type": "stream",
     "text": [
      "012345"
     ]
    }
   ],
   "source": [
    "for i in range(10):\n",
    "    if(i==6):\n",
    "        break\n",
    "    else:\n",
    "        print(i,end=\"\")\n",
    "    "
   ]
  },
  {
   "cell_type": "code",
   "execution_count": 5,
   "id": "538bd743",
   "metadata": {},
   "outputs": [
    {
     "name": "stdout",
     "output_type": "stream",
     "text": [
      "1 3 7 9 11 13 15 17 19 "
     ]
    }
   ],
   "source": [
    "n= int(input())\n",
    "a=0\n",
    "if(n==1):\n",
    "    for i in range(1,11):\n",
    "        print(i,end=\" \")\n",
    "elif(n==2):\n",
    "    while a<20:\n",
    "        a+=1\n",
    "        if(a%2==0):\n",
    "            print(a,end=\" \")\n",
    "elif(n==3):\n",
    "    while(a<20):\n",
    "        a+=1\n",
    "        if(a%2!=0):\n",
    "            if(a==5):\n",
    "                continue\n",
    "            print(a,end=\" \")\n",
    "elif(n==4):\n",
    "    for i in range(1,71):\n",
    "        if(i%7==0):\n",
    "            if(i==42):\n",
    "                continue\n",
    "            print(i,end=\" \")\n",
    "else:\n",
    "    print(\"Invalid\")"
   ]
  },
  {
   "cell_type": "code",
   "execution_count": 47,
   "id": "a1d20f64",
   "metadata": {},
   "outputs": [
    {
     "name": "stdout",
     "output_type": "stream",
     "text": [
      "2\n"
     ]
    }
   ],
   "source": [
    "count=0\n",
    "for i in range(3):\n",
    "    for j in range(3):\n",
    "        if(i==j):\n",
    "            pass\n",
    "        elif(i+j==3):\n",
    "            continue\n",
    "        elif(i>j):\n",
    "            break    \n",
    "        else:\n",
    "            count+=1\n",
    "print(count)"
   ]
  },
  {
   "cell_type": "code",
   "execution_count": null,
   "id": "58483a75",
   "metadata": {},
   "outputs": [
    {
     "name": "stdout",
     "output_type": "stream",
     "text": [
      "Welcome to Hotel\n",
      "['1. Roti', '2. Sabji', '3. Rice', '4. Dall', '5. Exit']\n",
      "Place Order by Code: \n",
      "3. Rice 40\n"
     ]
    }
   ],
   "source": [
    "print(\"Welcome to Hotel\")\n",
    "meal = [\"1.\"]\n",
    "Menu = [\"1. Roti\",\"2. Sabji\",\"3. Rice\", \"4. Dall\",\"5. Exit\"]\n",
    "prices = [20,50,40,30]\n",
    "print(Menu)\n",
    "print(\"Place Order by Code: \")\n",
    "a=int(input())\n",
    "count=0\n",
    "while(a!=5):\n",
    "    if(a==1):\n",
    "        count+=prices[0]\n",
    "        print(Menu[0],count)\n",
    "    elif(a==2):\n",
    "        count+=prices[1]\n",
    "        print(Menu[1],count)\n",
    "    elif(a==3):\n",
    "        count+=prices[2]\n",
    "        print(Menu[2],count)\n",
    "    elif(a==4):\n",
    "        count+= prices[3]\n",
    "        print(Menu[3],count)\n",
    "    else:\n",
    "        print(Menu[4])\n",
    "    break\n"
   ]
  },
  {
   "cell_type": "code",
   "execution_count": null,
   "id": "12de3399",
   "metadata": {},
   "outputs": [
    {
     "name": "stdout",
     "output_type": "stream",
     "text": [
      "0\n"
     ]
    }
   ],
   "source": [
    "#password\n",
    "p = input()\n",
    "if(p==\"password\" and len(p)>10 and p[-1]!=\".\" and (\" \" not in p)):\n",
    "    print(\"invalid\")\n"
   ]
  },
  {
   "cell_type": "code",
   "execution_count": 4,
   "id": "a54278c0",
   "metadata": {},
   "outputs": [
    {
     "name": "stdout",
     "output_type": "stream",
     "text": [
      "55\n"
     ]
    }
   ],
   "source": [
    "n=10\n",
    "sums=0\n",
    "for i in range(1,11):\n",
    "    sums+=i\n",
    "print(sums)"
   ]
  },
  {
   "cell_type": "code",
   "execution_count": 5,
   "id": "9638bc39",
   "metadata": {},
   "outputs": [
    {
     "name": "stdout",
     "output_type": "stream",
     "text": [
      "Not prime\n",
      "prime\n",
      "Not prime\n",
      "prime\n",
      "prime\n"
     ]
    }
   ],
   "source": [
    "# check if prime or not\n",
    "n= 8\n",
    "for i in range(2,n-1):\n",
    "    if(n%i!=0):\n",
    "        print(\"prime\")\n",
    "    else:\n",
    "        print(\"Not prime\")\n"
   ]
  },
  {
   "cell_type": "code",
   "execution_count": 6,
   "id": "55f466bd",
   "metadata": {},
   "outputs": [
    {
     "name": "stdout",
     "output_type": "stream",
     "text": [
      "17 19 23 29 31 37 41 43 47 53 10\n",
      "340\n"
     ]
    }
   ],
   "source": [
    "n=55\n",
    "a = 15\n",
    "count=0\n",
    "sum=0\n",
    "for i in range(a,n+1):\n",
    "    for j in range(2,i):\n",
    "        if(i%j==0):\n",
    "            break\n",
    "    else:\n",
    "        print(i,end=\" \")\n",
    "        count+=1\n",
    "        sum+=i\n",
    "print(count)\n",
    "print(sum) "
   ]
  },
  {
   "cell_type": "code",
   "execution_count": 26,
   "id": "4bb5c027",
   "metadata": {},
   "outputs": [
    {
     "name": "stdout",
     "output_type": "stream",
     "text": [
      "793\n"
     ]
    }
   ],
   "source": [
    "n=397\n",
    "rev=0\n",
    "while(n):\n",
    "    digit= n%10\n",
    "    rev=rev*10+digit\n",
    "    n=n//10\n",
    "print(rev)"
   ]
  },
  {
   "cell_type": "code",
   "execution_count": 37,
   "id": "3da3c4d0",
   "metadata": {},
   "outputs": [
    {
     "name": "stdout",
     "output_type": "stream",
     "text": [
      "palindrome\n"
     ]
    }
   ],
   "source": [
    "num = 121\n",
    "n = num\n",
    "new=0\n",
    "while(n):\n",
    "    digit =n%10\n",
    "    new = new*10+digit\n",
    "    n=n//10\n",
    "if(new==num):\n",
    "    print(\"palindrome\")\n",
    "else:\n",
    "    print(\"not a palindrome\")"
   ]
  },
  {
   "cell_type": "code",
   "execution_count": null,
   "id": "a9856280",
   "metadata": {},
   "outputs": [
    {
     "ename": "KeyboardInterrupt",
     "evalue": "",
     "output_type": "error",
     "traceback": [
      "\u001b[1;31m---------------------------------------------------------------------------\u001b[0m",
      "\u001b[1;31mKeyboardInterrupt\u001b[0m                         Traceback (most recent call last)",
      "Cell \u001b[1;32mIn[47], line 6\u001b[0m\n\u001b[0;32m      4\u001b[0m n \u001b[38;5;241m=\u001b[39m i\n\u001b[0;32m      5\u001b[0m new\u001b[38;5;241m=\u001b[39m\u001b[38;5;241m0\u001b[39m\n\u001b[1;32m----> 6\u001b[0m \u001b[38;5;28;01mwhile\u001b[39;00m(n):\n\u001b[0;32m      7\u001b[0m     digit \u001b[38;5;241m=\u001b[39mn\u001b[38;5;241m%\u001b[39m\u001b[38;5;241m10\u001b[39m\n\u001b[0;32m      8\u001b[0m     new \u001b[38;5;241m=\u001b[39m new\u001b[38;5;241m*\u001b[39m\u001b[38;5;241m10\u001b[39m\u001b[38;5;241m+\u001b[39mdigit\n",
      "\u001b[1;31mKeyboardInterrupt\u001b[0m: "
     ]
    }
   ],
   "source": [
    "for i in range(20,60):\n",
    "    count=0\n",
    "    sum=0\n",
    "    n = i\n",
    "    new=0\n",
    "    while(n):\n",
    "        digit =n%10\n",
    "        new = new*10+digit\n",
    "        n=n//1\n",
    "    count+=1\n",
    "    sum+=i\n",
    "print(sum,count)\n"
   ]
  },
  {
   "cell_type": "code",
   "execution_count": null,
   "id": "f3579141",
   "metadata": {},
   "outputs": [],
   "source": [
    "# fibonnic series print count sum greater sum\n"
   ]
  },
  {
   "cell_type": "code",
   "execution_count": 53,
   "id": "d11f89db",
   "metadata": {},
   "outputs": [
    {
     "name": "stdout",
     "output_type": "stream",
     "text": [
      "4\n"
     ]
    }
   ],
   "source": [
    "# gcd\n",
    "a = 12\n",
    "b = 8\n",
    "while(b):\n",
    "    c=a%b\n",
    "    a=b\n",
    "    b=c\n",
    "print(a)"
   ]
  },
  {
   "cell_type": "code",
   "execution_count": 54,
   "id": "03ff6e44",
   "metadata": {},
   "outputs": [
    {
     "name": "stdout",
     "output_type": "stream",
     "text": [
      "4\n"
     ]
    }
   ],
   "source": [
    "num1 = 8\n",
    "num2 = 12\n",
    "for i in range(1,int(num1/2)+1):\n",
    "    num1%i==0 and num2%i==0\n",
    "    gcd=i\n",
    "print(gcd)\n"
   ]
  },
  {
   "cell_type": "code",
   "execution_count": 1,
   "id": "12910dd0",
   "metadata": {},
   "outputs": [
    {
     "name": "stdout",
     "output_type": "stream",
     "text": [
      "360.0\n"
     ]
    }
   ],
   "source": [
    "#LCM\n",
    "a = 36\n",
    "b = 40\n",
    "x,y=a,b\n",
    "while(b):\n",
    "    c=a%b\n",
    "    a=b\n",
    "    b=c\n",
    "lcm= x*y / a\n",
    "print(lcm)"
   ]
  },
  {
   "cell_type": "code",
   "execution_count": 6,
   "id": "53d4d98b",
   "metadata": {},
   "outputs": [
    {
     "data": {
      "text/plain": [
       "0"
      ]
     },
     "execution_count": 6,
     "metadata": {},
     "output_type": "execute_result"
    }
   ],
   "source": [
    "#lcm without gcd\n",
    "a=4\n",
    "b=4\n",
    "b%a"
   ]
  },
  {
   "cell_type": "code",
   "execution_count": null,
   "id": "37d8d377",
   "metadata": {},
   "outputs": [],
   "source": [
    "#magic number\n",
    "#amicouple numbers\n",
    "220 and 284"
   ]
  },
  {
   "cell_type": "code",
   "execution_count": null,
   "id": "7544e50c",
   "metadata": {},
   "outputs": [],
   "source": [
    "#armstrong numbers\n",
    "#happy number --> 19\n",
    "#strong number sum of factorial of numbers\n",
    "#perfect number"
   ]
  },
  {
   "cell_type": "code",
   "execution_count": 5,
   "id": "baf94d92",
   "metadata": {},
   "outputs": [
    {
     "name": "stdout",
     "output_type": "stream",
     "text": [
      "* * * * *  \n",
      "* * * * *  \n",
      "* * * * *  \n",
      "* * * * *  \n",
      "* * * * *  \n"
     ]
    }
   ],
   "source": [
    "n = 5\n",
    "for i in range(n):\n",
    "    for j in range(n):\n",
    "        print(\"*\", end=\" \")\n",
    "    print(\" \")\n",
    "    "
   ]
  },
  {
   "cell_type": "code",
   "execution_count": 6,
   "id": "01f70daf",
   "metadata": {},
   "outputs": [
    {
     "name": "stdout",
     "output_type": "stream",
     "text": [
      "1 1 1 1 1  \n",
      "2 2 2 2 2  \n",
      "3 3 3 3 3  \n",
      "4 4 4 4 4  \n",
      "5 5 5 5 5  \n"
     ]
    }
   ],
   "source": [
    "n = 5\n",
    "for i in range(n):\n",
    "    for j in range(n):\n",
    "        print(i+1, end=\" \")\n",
    "    print(\" \")\n",
    "    "
   ]
  },
  {
   "cell_type": "code",
   "execution_count": 2,
   "id": "cbbb629e",
   "metadata": {},
   "outputs": [
    {
     "name": "stdout",
     "output_type": "stream",
     "text": [
      "A A A A A  \n",
      "B B B B B  \n",
      "C C C C C  \n",
      "D D D D D  \n",
      "E E E E E  \n"
     ]
    }
   ],
   "source": [
    "n = 5\n",
    "for i in range(n):\n",
    "    for j in range(n):\n",
    "        print(chr(65+i), end=\" \")\n",
    "    print(\" \")"
   ]
  },
  {
   "cell_type": "code",
   "execution_count": 13,
   "id": "4cf8bd41",
   "metadata": {},
   "outputs": [
    {
     "name": "stdout",
     "output_type": "stream",
     "text": [
      "A B C D E  \n",
      "A B C D E  \n",
      "A B C D E  \n",
      "A B C D E  \n",
      "A B C D E  \n"
     ]
    }
   ],
   "source": [
    "n = 5\n",
    "for i in range(n):\n",
    "    for j in range(n):\n",
    "        print(chr(65+j), end=\" \")\n",
    "    print(\" \")"
   ]
  },
  {
   "cell_type": "code",
   "execution_count": 12,
   "id": "4f3f6e1c",
   "metadata": {},
   "outputs": [
    {
     "name": "stdout",
     "output_type": "stream",
     "text": [
      "1 2 3 4 5  \n",
      "2 3 4 5 6  \n",
      "3 4 5 6 7  \n",
      "4 5 6 7 8  \n",
      "5 6 7 8 9  \n"
     ]
    }
   ],
   "source": [
    "n = 5\n",
    "for i in range(n):\n",
    "    for j in range(n):\n",
    "        print(i+j+1, end=\" \")\n",
    "    print(\" \")"
   ]
  },
  {
   "cell_type": "code",
   "execution_count": 36,
   "id": "190317dc",
   "metadata": {},
   "outputs": [
    {
     "name": "stdout",
     "output_type": "stream",
     "text": [
      "      *     * *   * * * * * * * \n"
     ]
    }
   ],
   "source": [
    "\n",
    "for i in range(1,5):\n",
    "    for j in range(1,5):\n",
    "        if(j>=5-i):\n",
    "            print(\"*\",end=\" \")   \n",
    "        else:\n",
    "            print(\" \",end=\" \") \n",
    "print()    "
   ]
  },
  {
   "cell_type": "code",
   "execution_count": null,
   "id": "c72be97c",
   "metadata": {},
   "outputs": [
    {
     "name": "stdout",
     "output_type": "stream",
     "text": [
      "24\n"
     ]
    }
   ],
   "source": [
    "#recursion factorial\n",
    "n=4\n",
    "def fac(n):\n",
    "    if(n==0):\n",
    "        return 1\n",
    "    else:\n",
    "        return n*fac(n-1)\n",
    "print(fac(n))"
   ]
  },
  {
   "cell_type": "code",
   "execution_count": 34,
   "id": "8af5c0e6",
   "metadata": {},
   "outputs": [
    {
     "name": "stdout",
     "output_type": "stream",
     "text": [
      "1 2 3 4 5 6 7 8 9 10 "
     ]
    }
   ],
   "source": [
    "# print num from 1 to n\n",
    "n=10\n",
    "def num(n):\n",
    "    if(n==0):\n",
    "        return\n",
    "    else:\n",
    "        num(n-1)\n",
    "        print(n,end=\" \")\n",
    "num(n)"
   ]
  },
  {
   "cell_type": "code",
   "execution_count": 6,
   "id": "f99efef8",
   "metadata": {},
   "outputs": [
    {
     "name": "stdout",
     "output_type": "stream",
     "text": [
      "20 10\n",
      "10 5\n"
     ]
    }
   ],
   "source": [
    "#wothout using 3rd variable, reverse the \n",
    "a= 10\n",
    "b= 20\n",
    "a = a+b\n",
    "b= a-b\n",
    "a = a-b\n",
    "print(a,b)\n",
    "\n",
    "#bitwise\n",
    "c = 5\n",
    "d = 10\n",
    "c=c^d\n",
    "d=d^c\n",
    "c=c^d\n",
    "print(c,d)"
   ]
  },
  {
   "cell_type": "code",
   "execution_count": 16,
   "id": "ffd93d10",
   "metadata": {},
   "outputs": [
    {
     "name": "stdout",
     "output_type": "stream",
     "text": [
      "30\n",
      "8\n",
      "6\n"
     ]
    }
   ],
   "source": [
    "addition = lambda a,b: a+b\n",
    "print(addition(10,20))\n",
    "sub = lambda a,b: a-b\n",
    "print(sub(10,2))\n",
    "mult = lambda a=1,b=2,c=3: a*b*c\n",
    "print(mult())"
   ]
  },
  {
   "cell_type": "code",
   "execution_count": 29,
   "id": "612e9c23",
   "metadata": {},
   "outputs": [
    {
     "name": "stdout",
     "output_type": "stream",
     "text": [
      "12 8\n"
     ]
    }
   ],
   "source": [
    "def calculate(a,b):\n",
    "    def sum(x,y):\n",
    "        return x+y\n",
    "    def sub(x,y):\n",
    "        return x-y\n",
    "    sum = sum(a,b)\n",
    "    diff = sub(a,b)\n",
    "    return sum,diff\n",
    "sums,differnce = calculate(10,2)\n",
    "print(sums,differnce)"
   ]
  },
  {
   "cell_type": "code",
   "execution_count": null,
   "id": "1e4b0bdd",
   "metadata": {},
   "outputs": [],
   "source": [
    "def greet(name):\n",
    "    def format(name):\n",
    "        return "
   ]
  },
  {
   "cell_type": "code",
   "execution_count": 4,
   "id": "281689e4",
   "metadata": {},
   "outputs": [
    {
     "name": "stdout",
     "output_type": "stream",
     "text": [
      "[(5, 3), (2, 2)]\n"
     ]
    }
   ],
   "source": [
    "t =((1, 2), (3, 4), (5, 3), (2, 2))\n",
    "res=[]\n",
    "for i in t:\n",
    "    if((i[0]+i[1])%2==0):\n",
    "        res.append(i)\n",
    "print(res)"
   ]
  },
  {
   "cell_type": "code",
   "execution_count": 10,
   "id": "d31c332e",
   "metadata": {},
   "outputs": [
    {
     "name": "stdout",
     "output_type": "stream",
     "text": [
      "('earth', 'water', 'fire', 'air')\n"
     ]
    }
   ],
   "source": [
    "t=('fire', 'water', 'fire', 'earth', 'air', 'earth')\n",
    "res=set()\n",
    "for i in t:\n",
    "    res.add(i)\n",
    "    if(i not in res):\n",
    "        res.remove(i)\n",
    "        break\n",
    "print(tuple(res))"
   ]
  }
 ],
 "metadata": {
  "kernelspec": {
   "display_name": "Python 3",
   "language": "python",
   "name": "python3"
  },
  "language_info": {
   "codemirror_mode": {
    "name": "ipython",
    "version": 3
   },
   "file_extension": ".py",
   "mimetype": "text/x-python",
   "name": "python",
   "nbconvert_exporter": "python",
   "pygments_lexer": "ipython3",
   "version": "3.13.2"
  }
 },
 "nbformat": 4,
 "nbformat_minor": 5
}
