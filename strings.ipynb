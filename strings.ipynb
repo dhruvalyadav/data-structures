{
 "cells": [
  {
   "cell_type": "code",
   "execution_count": null,
   "id": "623687b7",
   "metadata": {},
   "outputs": [
    {
     "name": "stdout",
     "output_type": "stream",
     "text": [
      "abcd\n",
      "bcda\n",
      "cdab\n",
      "dabc\n",
      "\n"
     ]
    }
   ],
   "source": [
    "# rotate a string\n",
    "\n",
    "a='abcd'  #output = bcda , cdab\n",
    "ans=\"\"\n",
    "n=len(a)\n",
    "k=0\n",
    "while k<n:\n",
    "    ans=a[k:]+a[:k]\n",
    "    k+=1\n",
    "    print(ans)\n",
    "print()\n"
   ]
  },
  {
   "cell_type": "code",
   "execution_count": 15,
   "id": "378b265a",
   "metadata": {},
   "outputs": [
    {
     "name": "stdout",
     "output_type": "stream",
     "text": [
      "Not anagram\n"
     ]
    }
   ],
   "source": [
    "# check if anagram \n",
    "s1=\"listen\"\n",
    "s2=\"sileennt\"\n",
    "dict1={}\n",
    "dict2={}\n",
    "for i in s1:\n",
    "    dict1[i]=dict1.get(i,0)+1\n",
    "for j in s2:\n",
    "    dict2[j]=dict2.get(j,0)+1\n",
    "if dict1==dict2:\n",
    "    print(\"anagram\")\n",
    "else:\n",
    "    print(\"Not anagram\")"
   ]
  },
  {
   "cell_type": "code",
   "execution_count": null,
   "id": "a022f53d",
   "metadata": {},
   "outputs": [],
   "source": [
    "\n"
   ]
  }
 ],
 "metadata": {
  "kernelspec": {
   "display_name": "Python 3",
   "language": "python",
   "name": "python3"
  },
  "language_info": {
   "codemirror_mode": {
    "name": "ipython",
    "version": 3
   },
   "file_extension": ".py",
   "mimetype": "text/x-python",
   "name": "python",
   "nbconvert_exporter": "python",
   "pygments_lexer": "ipython3",
   "version": "3.13.2"
  }
 },
 "nbformat": 4,
 "nbformat_minor": 5
}
