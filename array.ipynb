{
 "cells": [
  {
   "cell_type": "code",
   "execution_count": 5,
   "id": "a2a7f475",
   "metadata": {},
   "outputs": [
    {
     "data": {
      "text/plain": [
       "[3, 4, 5, 6, 1, 2]"
      ]
     },
     "execution_count": 5,
     "metadata": {},
     "output_type": "execute_result"
    }
   ],
   "source": [
    "arr=[1,2,3,4,5,6]\n",
    "n=2\n",
    "#rotate clockwise by  positions\n",
    "def rotate(arr,n):\n",
    "    d=0\n",
    "    d=d%n\n",
    "    return arr[n-d:]+arr[d:n-d]\n",
    "        \n",
    "rotate(arr,n)"
   ]
  },
  {
   "cell_type": "code",
   "execution_count": null,
   "id": "9ac09bd0",
   "metadata": {},
   "outputs": [
    {
     "name": "stdout",
     "output_type": "stream",
     "text": [
      "[7, 6, 5, 4, 3, 2, 1]\n"
     ]
    }
   ],
   "source": [
    "#reverse an array\n",
    "arr=[1,2,3,4,5,6,7]\n",
    "low=0\n",
    "high=len(arr)-1\n",
    "while low<high:\n",
    "    arr[low],arr[high]=arr[high],arr[low]\n",
    "    low+=1\n",
    "    high-=1\n",
    "print(arr)\n",
    "#sc =O(1)\n",
    "#TC =O(n)\n"
   ]
  },
  {
   "cell_type": "code",
   "execution_count": null,
   "id": "1fb7f481",
   "metadata": {},
   "outputs": [
    {
     "name": "stdout",
     "output_type": "stream",
     "text": [
      "0\n"
     ]
    }
   ],
   "source": [
    "#counting elements\n",
    "#given an array count how many number are there in such as x+1 is also present in arr. If duplicate then count them sarately\n",
    "# [1,2,3] in this 1+1 is 2 and 2+1 is 3 s count=2\n",
    "\n",
    "arr=[1,1,3,3,5,5,7,7]\n",
    "arr=sorted(arr)\n",
    "count=0\n",
    "for i in range(0,len(arr)-1): #O(n)\n",
    "    if(arr[i]+1==arr[i+1]):\n",
    "        count+=1\n",
    "print(count)\n",
    "\n",
    "#effective \n",
    "s=set(arr)\n",
    "count=0\n",
    "for i in arr: #O(n)\n",
    "    if i+1 in s:\n",
    "        count+=1\n",
    "print(count)\n"
   ]
  }
 ],
 "metadata": {
  "kernelspec": {
   "display_name": "Python 3",
   "language": "python",
   "name": "python3"
  },
  "language_info": {
   "codemirror_mode": {
    "name": "ipython",
    "version": 3
   },
   "file_extension": ".py",
   "mimetype": "text/x-python",
   "name": "python",
   "nbconvert_exporter": "python",
   "pygments_lexer": "ipython3",
   "version": "3.13.2"
  }
 },
 "nbformat": 4,
 "nbformat_minor": 5
}
