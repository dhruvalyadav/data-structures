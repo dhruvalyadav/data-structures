{
 "cells": [
  {
   "cell_type": "code",
   "execution_count": 4,
   "id": "ff9bbc07",
   "metadata": {},
   "outputs": [
    {
     "name": "stdout",
     "output_type": "stream",
     "text": [
      "['0000', '0001', '0002', '0010', '0011', '0012', '0020', '0021', '0022', '0100', '0101', '0102', '0110', '0111', '0112', '0120', '0121', '0122', '0200', '0201', '0202', '0210', '0211', '0212', '0220', '0221', '0222', '1000', '1001', '1002', '1010', '1011', '1012', '1020', '1021', '1022', '1100', '1101', '1102', '1110', '1111', '1112', '1120', '1121', '1122', '1200', '1201', '1202', '1210', '1211', '1212', '1220', '1221', '1222', '2000', '2001', '2002', '2010', '2011', '2012', '2020', '2021', '2022', '2100', '2101', '2102', '2110', '2111', '2112', '2120', '2121', '2122', '2200', '2201', '2202', '2210', '2211', '2212', '2220', '2221', '2222']\n"
     ]
    }
   ],
   "source": [
    "# Example 1: Generate all binary strings of length n using backtracking\n",
    "def backtrack(n,curr=\"\",res=None):\n",
    "    if res is None:\n",
    "        res=[]\n",
    "    if len(curr)==n:\n",
    "        res.append(curr)\n",
    "    else:\n",
    "        backtrack(n,curr+\"0\",res)\n",
    "        backtrack(n,curr+\"1\",res)\n",
    "        backtrack(n,curr+\"2\",res)\n",
    "    return res\n",
    "print(backtrack(4))"
   ]
  },
  {
   "cell_type": "code",
   "execution_count": null,
   "id": "d6ae3e40",
   "metadata": {},
   "outputs": [],
   "source": [
    "# Example 2: Generate all subsets of a set\n"
   ]
  },
  {
   "cell_type": "code",
   "execution_count": 10,
   "id": "2c764aad",
   "metadata": {},
   "outputs": [
    {
     "name": "stdout",
     "output_type": "stream",
     "text": [
      "['(())', '()()']\n"
     ]
    }
   ],
   "source": [
    "# Generate Parentheses\n",
    "def backtrack(n,res=None,curr=\"\",open=0 ,close=0):\n",
    "    if res is None:\n",
    "        res=[]\n",
    "    if(len(curr)==2*n):\n",
    "        res.append(curr)\n",
    "    if(open<n):\n",
    "        backtrack(n,res,curr+\"(\",open+1,close)\n",
    "    if(close<open):\n",
    "        backtrack(n,res,curr+\")\",open,close+1)\n",
    "    return res\n",
    "n=2\n",
    "print(backtrack(n))\n"
   ]
  },
  {
   "cell_type": "code",
   "execution_count": 21,
   "id": "9ab515fc",
   "metadata": {},
   "outputs": [
    {
     "name": "stdout",
     "output_type": "stream",
     "text": [
      "['ad', 'ae', 'af', 'bd', 'be', 'bf', 'cd', 'ce', 'cf']\n"
     ]
    }
   ],
   "source": [
    "# Letter Combinations of a Phone Number\n",
    "def letter(n,res=None,index=0,ans=\"\"):\n",
    "    if res is None:\n",
    "        res=[]\n",
    "    if not n:\n",
    "        return []\n",
    "    mapp={\n",
    "        \"2\":\"abc\",\"3\":\"def\",\"4\": \"ghi\", \"5\": \"jkl\",\n",
    "        \"6\": \"mno\", \"7\": \"pqrs\", \"8\": \"tuv\", \"9\": \"wxyz\" }\n",
    "    if(index==len(n)):\n",
    "        res.append(ans)\n",
    "        return res\n",
    "    for lette in mapp[n[index]]:\n",
    "        letter(n,res,index+1,ans+lette)\n",
    "    return res\n",
    "print(letter(\"23\"))\n"
   ]
  },
  {
   "cell_type": "code",
   "execution_count": null,
   "id": "058bc51b",
   "metadata": {},
   "outputs": [
    {
     "name": "stdout",
     "output_type": "stream",
     "text": [
      "[[2, 2, 3], [7]]\n"
     ]
    }
   ],
   "source": [
    "# Combination Sum\n",
    "# input=[2,3,6,7]\n",
    "# target=7\n",
    "# ans= [2,2,3],[7]\n",
    "\n",
    "def combinationSum(candidates, target, index=0, path=None, res=None):\n",
    "    if res is None:\n",
    "        res = []\n",
    "    if path is None:\n",
    "        path = []\n",
    "    \n",
    "    if target == 0:\n",
    "        res.append(path)\n",
    "        return res\n",
    "\n",
    "    if index >= len(candidates) or target < 0:\n",
    "        return res\n",
    "    combinationSum(candidates, target - candidates[index], index, path + [candidates[index]], res)\n",
    "    combinationSum(candidates, target, index + 1, path, res)\n",
    "    return res\n",
    "print(combinationSum([2,3,6,7], 7))\n"
   ]
  },
  {
   "cell_type": "code",
   "execution_count": null,
   "id": "93be92a8",
   "metadata": {},
   "outputs": [],
   "source": []
  }
 ],
 "metadata": {
  "kernelspec": {
   "display_name": "Python 3",
   "language": "python",
   "name": "python3"
  },
  "language_info": {
   "codemirror_mode": {
    "name": "ipython",
    "version": 3
   },
   "file_extension": ".py",
   "mimetype": "text/x-python",
   "name": "python",
   "nbconvert_exporter": "python",
   "pygments_lexer": "ipython3",
   "version": "3.13.2"
  }
 },
 "nbformat": 4,
 "nbformat_minor": 5
}
