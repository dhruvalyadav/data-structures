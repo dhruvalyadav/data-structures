{
 "cells": [
  {
   "cell_type": "code",
   "execution_count": 2,
   "id": "e6c62e50",
   "metadata": {},
   "outputs": [
    {
     "name": "stdout",
     "output_type": "stream",
     "text": [
      "3\n"
     ]
    }
   ],
   "source": [
    "#linear search\n",
    "def linear(a,k):\n",
    "    for i in range(len(a)):\n",
    "        if(a[i]==k):\n",
    "            return i\n",
    "    return -1\n",
    "print(linear([2,3,8,4,6],4))"
   ]
  },
  {
   "cell_type": "code",
   "execution_count": 4,
   "id": "defdfafe",
   "metadata": {},
   "outputs": [
    {
     "name": "stdout",
     "output_type": "stream",
     "text": [
      "6\n"
     ]
    }
   ],
   "source": [
    "#Binary search\n",
    "a=[2,4,6,8,9,12,367,657,1024]\n",
    "k=12\n",
    "low,high = 0,len(a)-1\n",
    "while(low<=high):\n",
    "    mid=(low+high)//2\n",
    "    if(a[mid]==k):\n",
    "        print(mid+1)\n",
    "        break\n",
    "    elif a[mid]<k:\n",
    "        low=mid+1\n",
    "    else:\n",
    "        high=mid-1"
   ]
  },
  {
   "cell_type": "code",
   "execution_count": 4,
   "id": "c8cc42c4",
   "metadata": {},
   "outputs": [
    {
     "name": "stdout",
     "output_type": "stream",
     "text": [
      "7\n"
     ]
    }
   ],
   "source": [
    "#find nearest square root using binary search\n",
    "n=17\n",
    "low=0\n",
    "high=n\n",
    "while (low<=high):\n",
    "    mid=(low+high)//2\n",
    "    for i in range(low,mid):\n",
    "        if(i*i==n):\n",
    "            print(i)\n",
    "            break\n",
    "        elif i*i < n:\n",
    "            low=mid+i\n",
    "        else:\n",
    "            high=mid-i\n",
    "print(i)"
   ]
  },
  {
   "cell_type": "code",
   "execution_count": null,
   "id": "e64e8456",
   "metadata": {},
   "outputs": [
    {
     "name": "stdout",
     "output_type": "stream",
     "text": [
      "-1\n"
     ]
    }
   ],
   "source": [
    "#using recursion binary search\n",
    "def binary(a,k,low,high):\n",
    "    if(low>high):\n",
    "        return -1\n",
    "    mid=(low+high)//2\n",
    "    if(a[mid]==k):\n",
    "        return mid\n",
    "    elif(a[mid]<k):\n",
    "        return binary(a,k,mid+1,high)\n",
    "    else:\n",
    "        return binary(a,k,low,mid-1)\n",
    "\n",
    "a=[2,3,4,5,6,7,8]\n",
    "k=10\n",
    "print(binary(a,k,0,len(a)-1))\n"
   ]
  },
  {
   "cell_type": "code",
   "execution_count": 2,
   "id": "c6b76781",
   "metadata": {},
   "outputs": [
    {
     "data": {
      "text/plain": [
       "[1, 1, 1, 2, 2, 3]"
      ]
     },
     "execution_count": 2,
     "metadata": {},
     "output_type": "execute_result"
    }
   ],
   "source": [
    "#bubble sort\n",
    "def bubble(a):\n",
    "    n=len(a)\n",
    "    for i in range(n):\n",
    "        swapped=False\n",
    "        for j in range(0,n-i-1):\n",
    "            if(a[j]>a[j+1]):\n",
    "                a[j],a[j+1]=a[j+1],a[j]\n",
    "                swapped=True\n",
    "        if swapped==False:\n",
    "            break\n",
    "    return a\n",
    "bubble([1,2,3,1,2,1])"
   ]
  },
  {
   "cell_type": "code",
   "execution_count": null,
   "id": "a9475804",
   "metadata": {},
   "outputs": [
    {
     "name": "stdout",
     "output_type": "stream",
     "text": [
      "[1, 1, 1, 2, 2, 3]\n"
     ]
    }
   ],
   "source": [
    "#recursive bubble sort\n",
    "def bubble(a,n=None):\n",
    "    if n==None:\n",
    "        n=len(a)\n",
    "    if(n==1): #base case\n",
    "        return \n",
    "    flag=False\n",
    "    for i in range(0,n-1):\n",
    "        if(a[i]>a[i+1]):\n",
    "            a[i],a[i+1]=a[i+1],a[i]\n",
    "            flag=True\n",
    "    if not flag:\n",
    "        return \n",
    "    bubble(a,n-1)\n",
    "    \n",
    "a=[1,2,3,1,2,1]\n",
    "bubble(a)\n",
    "print(a)"
   ]
  },
  {
   "cell_type": "code",
   "execution_count": 30,
   "id": "6d0d2737",
   "metadata": {},
   "outputs": [
    {
     "name": "stdout",
     "output_type": "stream",
     "text": [
      "[11, 12, 22, 25, 64]\n"
     ]
    }
   ],
   "source": [
    "#selection sort\n",
    "def selection(a):\n",
    "    n=len(a)\n",
    "    for i in range(n):\n",
    "        small=i\n",
    "        for j in range(i+1,n):\n",
    "            if(a[j]<a[small]):\n",
    "                small=j\n",
    "        a[i],a[small]=a[small],a[i]\n",
    "    return a\n",
    "a=[64, 25, 12, 22, 11]\n",
    "selection(a)\n",
    "print(a)"
   ]
  },
  {
   "cell_type": "code",
   "execution_count": null,
   "id": "36c6ee96",
   "metadata": {},
   "outputs": [
    {
     "name": "stdout",
     "output_type": "stream",
     "text": [
      "11\n"
     ]
    }
   ],
   "source": [
    "#smallest element within an array\n",
    "a=[64, 25, 12, 22, 11]\n",
    "let = a[0]\n",
    "for i in range(len(a)):\n",
    "    if(a[i]<let):\n",
    "        let=a[i]\n",
    "print(let)"
   ]
  },
  {
   "cell_type": "code",
   "execution_count": 41,
   "id": "cd6a5d13",
   "metadata": {},
   "outputs": [
    {
     "name": "stdout",
     "output_type": "stream",
     "text": [
      "[1, 1, 2, 2, 3, 4, 5]\n"
     ]
    }
   ],
   "source": [
    "#merge sort\n",
    "def merge(arr):\n",
    "    if(len(arr)>1):\n",
    "        mid=len(arr)//2\n",
    "        l=arr[:mid]\n",
    "        r=arr[mid:]\n",
    "        merge(l)\n",
    "        merge(r)\n",
    "\n",
    "        i=j=k=0\n",
    "        while(i<len(l) and j<len(r)):\n",
    "            if(l[i]<r[j]):\n",
    "                arr[k]=l[i]\n",
    "                i+=1\n",
    "            else:\n",
    "                arr[k]=r[j]\n",
    "                j+=1\n",
    "            k+=1\n",
    "        while(i<len(l)):\n",
    "            arr[k]=l[i]\n",
    "            i+=1\n",
    "            k+=1\n",
    "        while(j<len(r)):\n",
    "            arr[k]=r[j]\n",
    "            j+=1\n",
    "            k+=1\n",
    "    return arr\n",
    "arr=[1,2,5,3,1,2,4]\n",
    "merge(arr)\n",
    "print(arr)\n"
   ]
  },
  {
   "cell_type": "code",
   "execution_count": 1,
   "id": "567ef76d",
   "metadata": {},
   "outputs": [
    {
     "name": "stdout",
     "output_type": "stream",
     "text": [
      "[1, 1, 1, 2, 3, 21]\n"
     ]
    }
   ],
   "source": [
    "#quick sort\n",
    "def quick(arr): #using recursion\n",
    "    if(len(arr)<1):\n",
    "        return arr\n",
    "    pivot=arr[len(arr)//2]\n",
    "    left=[]\n",
    "    right=[]\n",
    "    middle=[]\n",
    "    for i in arr:\n",
    "        if(i<pivot):\n",
    "            left.append(i)\n",
    "        elif(i==pivot):\n",
    "            middle.append(i)\n",
    "        else:\n",
    "            right.append(i)\n",
    "    return quick(left)+middle+quick(right)\n",
    "\n",
    "arr=[1,2,3,1,21,1]\n",
    "v=quick(arr)\n",
    "print(v)"
   ]
  },
  {
   "cell_type": "code",
   "execution_count": 6,
   "id": "d1a217bf",
   "metadata": {},
   "outputs": [
    {
     "data": {
      "text/plain": [
       "<bound method C.print of <__main__.C object at 0x0000024211475A90>>"
      ]
     },
     "execution_count": 6,
     "metadata": {},
     "output_type": "execute_result"
    }
   ],
   "source": [
    "#the\n",
    "class A:\n",
    "    def print():\n",
    "        print(\"hello\")\n",
    "class B:\n",
    "    def print():\n",
    "        print(\"World\")\n",
    "\n",
    "class C(A,B):\n",
    "    def print():\n",
    "        print\n",
    "\n",
    "a1=C()\n",
    "a1.print"
   ]
  },
  {
   "cell_type": "code",
   "execution_count": 12,
   "id": "2cd84261",
   "metadata": {},
   "outputs": [
    {
     "ename": "TypeError",
     "evalue": "unsupported operand type(s) for ^: 'int' and 'NoneType'",
     "output_type": "error",
     "traceback": [
      "\u001b[1;31m---------------------------------------------------------------------------\u001b[0m",
      "\u001b[1;31mTypeError\u001b[0m                                 Traceback (most recent call last)",
      "Cell \u001b[1;32mIn[12], line 3\u001b[0m\n\u001b[0;32m      1\u001b[0m a\u001b[38;5;241m=\u001b[39m\u001b[38;5;241m2\u001b[39m\n\u001b[0;32m      2\u001b[0m b\u001b[38;5;241m=\u001b[39m\u001b[38;5;28;01mNone\u001b[39;00m\n\u001b[1;32m----> 3\u001b[0m \u001b[38;5;28mprint\u001b[39m(\u001b[43ma\u001b[49m\u001b[38;5;241;43m^\u001b[39;49m\u001b[43mb\u001b[49m)\n",
      "\u001b[1;31mTypeError\u001b[0m: unsupported operand type(s) for ^: 'int' and 'NoneType'"
     ]
    }
   ],
   "source": [
    "a=2\n",
    "b=None\n",
    "print(a^b)"
   ]
  }
 ],
 "metadata": {
  "kernelspec": {
   "display_name": "Python 3",
   "language": "python",
   "name": "python3"
  },
  "language_info": {
   "codemirror_mode": {
    "name": "ipython",
    "version": 3
   },
   "file_extension": ".py",
   "mimetype": "text/x-python",
   "name": "python",
   "nbconvert_exporter": "python",
   "pygments_lexer": "ipython3",
   "version": "3.13.2"
  }
 },
 "nbformat": 4,
 "nbformat_minor": 5
}
