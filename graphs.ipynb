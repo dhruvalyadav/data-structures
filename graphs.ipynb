{
 "cells": [
  {
   "cell_type": "code",
   "execution_count": 2,
   "id": "1546d6d5",
   "metadata": {},
   "outputs": [
    {
     "name": "stdout",
     "output_type": "stream",
     "text": [
      "(0->1)\n",
      "(1->2)\n",
      "(2->0)\n",
      "(2->1)\n"
     ]
    }
   ],
   "source": [
    "class graph:\n",
    "    def __init__(self,edges,n):\n",
    "        self.adjlist=[ [] for _ in range(n)]\n",
    "        for (scr,dest) in edges:\n",
    "            self.adjlist[scr].append(dest)\n",
    "        \n",
    "def printgraph(graph):\n",
    "    for scr in range(len(graph.adjlist)):\n",
    "        for dest in graph.adjlist[scr]:\n",
    "            print(f'({scr}->{dest})',end=\"\")\n",
    "            print()\n",
    "edges=[(0,1),(1,2),(2,0),(2,1)]\n",
    "n=3\n",
    "graph=graph(edges,n)\n",
    "printgraph(graph)"
   ]
  }
 ],
 "metadata": {
  "kernelspec": {
   "display_name": "Python 3",
   "language": "python",
   "name": "python3"
  },
  "language_info": {
   "codemirror_mode": {
    "name": "ipython",
    "version": 3
   },
   "file_extension": ".py",
   "mimetype": "text/x-python",
   "name": "python",
   "nbconvert_exporter": "python",
   "pygments_lexer": "ipython3",
   "version": "3.13.2"
  }
 },
 "nbformat": 4,
 "nbformat_minor": 5
}
